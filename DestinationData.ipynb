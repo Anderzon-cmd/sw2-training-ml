{
 "cells": [
  {
   "cell_type": "code",
   "execution_count": null,
   "id": "96a6093d",
   "metadata": {},
   "outputs": [],
   "source": [
    "import pandas as pd\n",
    "import numpy as np\n",
    "import holidays\n",
    "import random\n",
    "from datetime import datetime, timedelta\n",
    "\n",
    "from sklearn.preprocessing import LabelEncoder, StandardScaler\n",
    "from sklearn.model_selection import train_test_split\n",
    "import joblib\n",
    "from keras.callbacks import EarlyStopping\n",
    "import numpy as np\n",
    "from keras.models import load_model"
   ]
  },
  {
   "cell_type": "markdown",
   "id": "b467fa30",
   "metadata": {},
   "source": [
    "Preparacion de los datos"
   ]
  },
  {
   "cell_type": "code",
   "execution_count": 4,
   "id": "2d506bdf",
   "metadata": {},
   "outputs": [],
   "source": [
    "#load data\n",
    "df=pd.read_csv(\"C:\\\\Users\\\\MSI SWORD 15 A12V\\\\Downloads\\\\Datos de vuelo\\\\Prediccion de destinos populares\\\\T_DB1B_MARKET_20250607_092242\\\\T_DB1B_MARKET.csv\")"
   ]
  },
  {
   "cell_type": "code",
   "execution_count": null,
   "id": "af984226",
   "metadata": {},
   "outputs": [
    {
     "name": "stdout",
     "output_type": "stream",
     "text": [
      "    YEAR  QUARTER ORIGIN DEST  PASSENGERS       DATE  HOLIDAY  VACATION  \\\n",
      "0   2024        1    ABE  ABQ         1.0 2024-02-10        0         0   \n",
      "1   2024        1    ABE  ABQ         1.0 2024-01-31        0         0   \n",
      "2   2024        1    ABE  ABQ         1.0 2024-03-21        0         0   \n",
      "3   2024        1    ABE  ABQ         1.0 2024-02-24        0         0   \n",
      "4   2024        1    ABE  ABQ         1.0 2024-01-12        0         0   \n",
      "5   2024        1    ABE  ABQ         1.0 2024-01-12        0         0   \n",
      "6   2024        1    ABE  ABQ         1.0 2024-02-07        0         0   \n",
      "7   2024        1    ABE  ABQ         1.0 2024-01-09        0         0   \n",
      "8   2024        1    ABE  ABQ         1.0 2024-03-08        0         0   \n",
      "9   2024        1    ABE  ABQ         1.0 2024-03-18        0         0   \n",
      "10  2024        1    ABE  ABQ         1.0 2024-03-01        0         0   \n",
      "11  2024        1    ABE  ABQ         1.0 2024-03-16        0         0   \n",
      "12  2024        1    ABE  ABY         1.0 2024-01-15        1         0   \n",
      "13  2024        1    ABE  ABY         1.0 2024-01-23        0         0   \n",
      "14  2024        1    ABE  AEX         1.0 2024-01-02        0         0   \n",
      "15  2024        1    ABE  AEX         1.0 2024-03-14        0         0   \n",
      "16  2024        1    ABE  AGS         1.0 2024-03-21        0         0   \n",
      "17  2024        1    ABE  AGS         1.0 2024-01-01        1         0   \n",
      "18  2024        1    ABE  AGS         1.0 2024-01-12        0         0   \n",
      "19  2024        1    ABE  AGS         1.0 2024-03-17        0         0   \n",
      "20  2024        1    ABE  AGS         1.0 2024-01-12        0         0   \n",
      "21  2024        1    ABE  AGS         1.0 2024-03-06        0         0   \n",
      "22  2024        1    ABE  AGS         1.0 2024-01-17        0         0   \n",
      "23  2024        1    ABE  AGS         1.0 2024-03-23        0         0   \n",
      "24  2024        1    ABE  AGS         1.0 2024-02-18        0         0   \n",
      "25  2024        1    ABE  AGS         1.0 2024-03-03        0         0   \n",
      "26  2024        1    ABE  AGS         1.0 2024-02-05        0         0   \n",
      "27  2024        1    ABE  AGS         1.0 2024-02-18        0         0   \n",
      "28  2024        1    ABE  AGS         1.0 2024-02-14        0         0   \n",
      "29  2024        1    ABE  AGS         1.0 2024-01-24        0         0   \n",
      "30  2024        1    ABE  AGS         1.0 2024-03-19        0         0   \n",
      "31  2024        1    ABE  AGS         1.0 2024-01-10        0         0   \n",
      "32  2024        1    ABE  AGS         1.0 2024-03-31        0         0   \n",
      "33  2024        1    ABE  AGS         1.0 2024-01-01        1         0   \n",
      "34  2024        1    ABE  AGS         1.0 2024-03-31        0         0   \n",
      "35  2024        1    ABE  AGS         1.0 2024-02-21        0         0   \n",
      "36  2024        1    ABE  AGS         1.0 2024-03-06        0         0   \n",
      "37  2024        1    ABE  ALB         1.0 2024-03-04        0         0   \n",
      "38  2024        1    ABE  AMA         1.0 2024-02-21        0         0   \n",
      "39  2024        1    ABE  AMA         1.0 2024-02-22        0         0   \n",
      "40  2024        1    ABE  AMA         1.0 2024-02-26        0         0   \n",
      "41  2024        1    ABE  ANC         1.0 2024-03-08        0         0   \n",
      "42  2024        1    ABE  ANC         1.0 2024-01-08        0         0   \n",
      "43  2024        1    ABE  ANC         1.0 2024-01-29        0         0   \n",
      "44  2024        1    ABE  ANC         1.0 2024-02-06        0         0   \n",
      "45  2024        1    ABE  ANC         1.0 2024-03-01        0         0   \n",
      "46  2024        1    ABE  ASE         1.0 2024-03-26        0         0   \n",
      "47  2024        1    ABE  ATL         1.0 2024-03-01        0         0   \n",
      "48  2024        1    ABE  ATL         1.0 2024-01-20        0         0   \n",
      "49  2024        1    ABE  ATL         1.0 2024-03-30        0         0   \n",
      "\n",
      "    IMPORTANT_EVENT  \n",
      "0                 0  \n",
      "1                 0  \n",
      "2                 0  \n",
      "3                 0  \n",
      "4                 0  \n",
      "5                 0  \n",
      "6                 0  \n",
      "7                 0  \n",
      "8                 0  \n",
      "9                 0  \n",
      "10                1  \n",
      "11                0  \n",
      "12                1  \n",
      "13                0  \n",
      "14                0  \n",
      "15                0  \n",
      "16                0  \n",
      "17                1  \n",
      "18                0  \n",
      "19                0  \n",
      "20                0  \n",
      "21                0  \n",
      "22                0  \n",
      "23                0  \n",
      "24                0  \n",
      "25                0  \n",
      "26                0  \n",
      "27                0  \n",
      "28                0  \n",
      "29                0  \n",
      "30                0  \n",
      "31                0  \n",
      "32                0  \n",
      "33                1  \n",
      "34                0  \n",
      "35                0  \n",
      "36                0  \n",
      "37                0  \n",
      "38                0  \n",
      "39                0  \n",
      "40                0  \n",
      "41                0  \n",
      "42                0  \n",
      "43                0  \n",
      "44                0  \n",
      "45                1  \n",
      "46                0  \n",
      "47                1  \n",
      "48                0  \n",
      "49                0  \n"
     ]
    }
   ],
   "source": [
    "\n",
    "\n",
    "# Suponiendo que df es tu DataFrame original\n",
    "df_data_import = df[['YEAR', 'QUARTER', 'ORIGIN', 'DEST','PASSENGERS']].copy()\n",
    "# df_data_import.dtypes``\n",
    "\n",
    "# 1. Generar fechas aleatorias por trimestre (no vectorizado)\n",
    "def random_date_in_quarter(year, quarter):\n",
    "    quarter_start=pd.Timestamp(year=year, month=(quarter-1)*3+1, day=1)\n",
    "    quarter_end=quarter_start+pd.offsets.QuarterEnd()\n",
    "    # print(quarter_start, quarter_end)\n",
    "    random_days=np.random.randint(0, (quarter_end - quarter_start).days+1)\n",
    "    random_date = quarter_start + pd.Timedelta(days=random_days)\n",
    "    # print(random_days,quarter_start+pd.Timedelta(days=random_days))\n",
    "    return random_date\n",
    "\n",
    "#2. Aplicar a todo el DataFrame\n",
    "df_data_import['DATE'] = df_data_import.apply(\n",
    "    lambda row: random_date_in_quarter(int(row['YEAR']), int(row['QUARTER'])),\n",
    "    axis=1\n",
    ")\n",
    "us_holidays = holidays.US(years=df_data_import['YEAR'].unique().tolist())\n",
    "\n",
    "df_data_import['HOLIDAY']=df_data_import['DATE'].apply(lambda x: x in us_holidays).astype(int)\n",
    "df_data_import['VACATION']=df_data_import['DATE'].dt.month.isin([7, 12]).astype(int)\n",
    "df_data_import['IMPORTANT_EVENT']=df_data_import['DATE'].dt.day.isin([1, 15]).astype(int)\n",
    "\n",
    "\n",
    "# Resultado\n",
    "print(df_data_import.head(50))"
   ]
  },
  {
   "cell_type": "code",
   "execution_count": null,
   "id": "b25762dd",
   "metadata": {},
   "outputs": [
    {
     "name": "stdout",
     "output_type": "stream",
     "text": [
      "    YEAR  QUARTER ORIGIN DEST  PASSENGERS       DATE  HOLIDAY  VACATION  \\\n",
      "0   2024        1    ABE  ABQ           1 2024-02-10        0         0   \n",
      "1   2024        1    ABE  ABQ           1 2024-01-31        0         0   \n",
      "2   2024        1    ABE  ABQ           1 2024-03-21        0         0   \n",
      "3   2024        1    ABE  ABQ           1 2024-02-24        0         0   \n",
      "4   2024        1    ABE  ABQ           1 2024-01-12        0         0   \n",
      "5   2024        1    ABE  ABQ           1 2024-01-12        0         0   \n",
      "6   2024        1    ABE  ABQ           1 2024-02-07        0         0   \n",
      "7   2024        1    ABE  ABQ           1 2024-01-09        0         0   \n",
      "8   2024        1    ABE  ABQ           1 2024-03-08        0         0   \n",
      "9   2024        1    ABE  ABQ           1 2024-03-18        0         0   \n",
      "10  2024        1    ABE  ABQ           1 2024-03-01        0         0   \n",
      "11  2024        1    ABE  ABQ           1 2024-03-16        0         0   \n",
      "12  2024        1    ABE  ABY           1 2024-01-15        1         0   \n",
      "13  2024        1    ABE  ABY           1 2024-01-23        0         0   \n",
      "14  2024        1    ABE  AEX           1 2024-01-02        0         0   \n",
      "15  2024        1    ABE  AEX           1 2024-03-14        0         0   \n",
      "16  2024        1    ABE  AGS           1 2024-03-21        0         0   \n",
      "17  2024        1    ABE  AGS           1 2024-01-01        1         0   \n",
      "18  2024        1    ABE  AGS           1 2024-01-12        0         0   \n",
      "19  2024        1    ABE  AGS           1 2024-03-17        0         0   \n",
      "20  2024        1    ABE  AGS           1 2024-01-12        0         0   \n",
      "21  2024        1    ABE  AGS           1 2024-03-06        0         0   \n",
      "22  2024        1    ABE  AGS           1 2024-01-17        0         0   \n",
      "23  2024        1    ABE  AGS           1 2024-03-23        0         0   \n",
      "24  2024        1    ABE  AGS           1 2024-02-18        0         0   \n",
      "25  2024        1    ABE  AGS           1 2024-03-03        0         0   \n",
      "26  2024        1    ABE  AGS           1 2024-02-05        0         0   \n",
      "27  2024        1    ABE  AGS           1 2024-02-18        0         0   \n",
      "28  2024        1    ABE  AGS           1 2024-02-14        0         0   \n",
      "29  2024        1    ABE  AGS           1 2024-01-24        0         0   \n",
      "30  2024        1    ABE  AGS           1 2024-03-19        0         0   \n",
      "31  2024        1    ABE  AGS           1 2024-01-10        0         0   \n",
      "32  2024        1    ABE  AGS           1 2024-03-31        0         0   \n",
      "33  2024        1    ABE  AGS           1 2024-01-01        1         0   \n",
      "34  2024        1    ABE  AGS           1 2024-03-31        0         0   \n",
      "35  2024        1    ABE  AGS           1 2024-02-21        0         0   \n",
      "36  2024        1    ABE  AGS           1 2024-03-06        0         0   \n",
      "37  2024        1    ABE  ALB           1 2024-03-04        0         0   \n",
      "38  2024        1    ABE  AMA           1 2024-02-21        0         0   \n",
      "39  2024        1    ABE  AMA           1 2024-02-22        0         0   \n",
      "40  2024        1    ABE  AMA           1 2024-02-26        0         0   \n",
      "41  2024        1    ABE  ANC           1 2024-03-08        0         0   \n",
      "42  2024        1    ABE  ANC           1 2024-01-08        0         0   \n",
      "43  2024        1    ABE  ANC           1 2024-01-29        0         0   \n",
      "44  2024        1    ABE  ANC           1 2024-02-06        0         0   \n",
      "45  2024        1    ABE  ANC           1 2024-03-01        0         0   \n",
      "46  2024        1    ABE  ASE           1 2024-03-26        0         0   \n",
      "47  2024        1    ABE  ATL           1 2024-03-01        0         0   \n",
      "48  2024        1    ABE  ATL           1 2024-01-20        0         0   \n",
      "49  2024        1    ABE  ATL           1 2024-03-30        0         0   \n",
      "\n",
      "    IMPORTANT_EVENT  \n",
      "0                 0  \n",
      "1                 0  \n",
      "2                 0  \n",
      "3                 0  \n",
      "4                 0  \n",
      "5                 0  \n",
      "6                 0  \n",
      "7                 0  \n",
      "8                 0  \n",
      "9                 0  \n",
      "10                1  \n",
      "11                0  \n",
      "12                1  \n",
      "13                0  \n",
      "14                0  \n",
      "15                0  \n",
      "16                0  \n",
      "17                1  \n",
      "18                0  \n",
      "19                0  \n",
      "20                0  \n",
      "21                0  \n",
      "22                0  \n",
      "23                0  \n",
      "24                0  \n",
      "25                0  \n",
      "26                0  \n",
      "27                0  \n",
      "28                0  \n",
      "29                0  \n",
      "30                0  \n",
      "31                0  \n",
      "32                0  \n",
      "33                1  \n",
      "34                0  \n",
      "35                0  \n",
      "36                0  \n",
      "37                0  \n",
      "38                0  \n",
      "39                0  \n",
      "40                0  \n",
      "41                0  \n",
      "42                0  \n",
      "43                0  \n",
      "44                0  \n",
      "45                1  \n",
      "46                0  \n",
      "47                1  \n",
      "48                0  \n",
      "49                0  \n"
     ]
    }
   ],
   "source": [
    "#Guardar archivo con atributos necesarios\n",
    "df_data_import['PASSENGERS']=df_data_import['PASSENGERS'].astype(int)\n",
    "print(df_data_import.head(50))\n",
    "\n",
    "df_data_import.to_csv('dataset_fligth_predict.csv',index=False)"
   ]
  },
  {
   "cell_type": "markdown",
   "id": "29584a7e",
   "metadata": {},
   "source": [
    "Cargar y Explorar los Datos"
   ]
  },
  {
   "cell_type": "code",
   "execution_count": null,
   "id": "902e03dd",
   "metadata": {},
   "outputs": [
    {
     "name": "stdout",
     "output_type": "stream",
     "text": [
      "  ORIGIN DEST       DATE  HOLIDAY  VACATION  IMPORTANT_EVENT  PASSENGERS  \\\n",
      "0    ABE  ABQ 2024-02-10        0         0                0           1   \n",
      "1    ABE  ABQ 2024-01-31        0         0                0           1   \n",
      "2    ABE  ABQ 2024-03-21        0         0                0           1   \n",
      "3    ABE  ABQ 2024-02-24        0         0                0           1   \n",
      "4    ABE  ABQ 2024-01-12        0         0                0           1   \n",
      "5    ABE  ABQ 2024-01-12        0         0                0           1   \n",
      "6    ABE  ABQ 2024-02-07        0         0                0           1   \n",
      "7    ABE  ABQ 2024-01-09        0         0                0           1   \n",
      "8    ABE  ABQ 2024-03-08        0         0                0           1   \n",
      "9    ABE  ABQ 2024-03-18        0         0                0           1   \n",
      "\n",
      "   DEST_ENCONDED  ORIGIN_ENCONDED  MONTH  DAY_WEEK  IS_POPULAR  \n",
      "0              2                0      2         5           0  \n",
      "1              2                0      1         2           0  \n",
      "2              2                0      3         3           0  \n",
      "3              2                0      2         5           0  \n",
      "4              2                0      1         4           0  \n",
      "5              2                0      1         4           0  \n",
      "6              2                0      2         2           0  \n",
      "7              2                0      1         1           0  \n",
      "8              2                0      3         4           0  \n",
      "9              2                0      3         0           0  \n"
     ]
    }
   ],
   "source": [
    "#Training\n",
    "\n",
    "#Load data\n",
    "df_dataset=pd.read_csv('dataset_fligth_predict.csv')\n",
    "df_features=df_dataset[['ORIGIN','DEST','DATE','HOLIDAY','VACATION','IMPORTANT_EVENT','PASSENGERS']].copy()\n",
    "\n",
    "le_dest=LabelEncoder()\n",
    "df_features['DEST_ENCONDED']=le_dest.fit_transform(df_features['DEST'])\n",
    "\n",
    "le_origin=LabelEncoder()\n",
    "df_features['ORIGIN_ENCONDED']=le_origin.fit_transform(df_features['ORIGIN'])\n",
    "\n",
    "df_features['DATE']=pd.to_datetime(df_features['DATE'])\n",
    "\n",
    "#extract features time\n",
    "df_features['MONTH']=df_features['DATE'].dt.month\n",
    "df_features['DAY_WEEK']=df_features['DATE'].dt.day_of_week\n",
    "\n",
    "# Definir variable objetivo (destinos populares = top 10 con más pasajeros)\n",
    "top_destinos = df_features.groupby('DEST')['PASSENGERS'].sum().nlargest(10).index\n",
    "df_features['IS_POPULAR'] = df['DEST'].isin(top_destinos).astype(int)\n",
    "\n",
    "print(df_features.head(10))\n",
    "\n"
   ]
  },
  {
   "cell_type": "code",
   "execution_count": null,
   "id": "62bb67af",
   "metadata": {},
   "outputs": [],
   "source": [
    "#Guardados de los encodes\n",
    "df_features[['DEST','DEST_ENCONDED']].drop_duplicates().to_csv('dest_airport_encoded.csv',index=False)\n",
    "df_features[['ORIGIN','ORIGIN_ENCONDED']].drop_duplicates().to_csv('origin_airport_encoded.csv',index=False)"
   ]
  },
  {
   "cell_type": "markdown",
   "id": "0fcfd885",
   "metadata": {},
   "source": [
    "Dividir Datos en Train/Test"
   ]
  },
  {
   "cell_type": "code",
   "execution_count": 53,
   "id": "a90821f6",
   "metadata": {},
   "outputs": [
    {
     "name": "stdout",
     "output_type": "stream",
     "text": [
      "   MONTH  DAY_WEEK  HOLIDAY  VACATION  IMPORTANT_EVENT  ORIGIN_ENCONDED  \\\n",
      "0      2         5        0         0                0                0   \n",
      "1      1         2        0         0                0                0   \n",
      "2      3         3        0         0                0                0   \n",
      "3      2         5        0         0                0                0   \n",
      "4      1         4        0         0                0                0   \n",
      "5      1         4        0         0                0                0   \n",
      "6      2         2        0         0                0                0   \n",
      "7      1         1        0         0                0                0   \n",
      "8      3         4        0         0                0                0   \n",
      "9      3         0        0         0                0                0   \n",
      "\n",
      "   DEST_ENCONDED  \n",
      "0              2  \n",
      "1              2  \n",
      "2              2  \n",
      "3              2  \n",
      "4              2  \n",
      "5              2  \n",
      "6              2  \n",
      "7              2  \n",
      "8              2  \n",
      "9              2   0    0\n",
      "1    0\n",
      "2    0\n",
      "3    0\n",
      "4    0\n",
      "5    0\n",
      "6    0\n",
      "7    0\n",
      "8    0\n",
      "9    0\n",
      "Name: IS_POPULAR, dtype: int64\n"
     ]
    }
   ],
   "source": [
    "features=['MONTH','DAY_WEEK','HOLIDAY','VACATION','IMPORTANT_EVENT','ORIGIN_ENCONDED','DEST_ENCONDED']\n",
    "\n",
    "X=df_features[features]\n",
    "\n",
    "y=df_features['IS_POPULAR']\n",
    "print(X.head(10),y.head(10))\n",
    "\n",
    "\n",
    "X_train, X_test, y_train, y_test = train_test_split(X, y, test_size=0.2, random_state=42)\n",
    "\n"
   ]
  },
  {
   "cell_type": "markdown",
   "id": "d2beb228",
   "metadata": {},
   "source": [
    "Normalización de Datos"
   ]
  },
  {
   "cell_type": "code",
   "execution_count": 54,
   "id": "7caed56a",
   "metadata": {},
   "outputs": [],
   "source": [
    "# Normalizar datos numéricos (excepto variables binarias)\n",
    "scaler = StandardScaler()\n",
    "numeric_cols = ['ORIGIN_ENCONDED', 'DEST_ENCONDED', 'DAY_WEEK','MONTH']\n",
    "X_train[numeric_cols] = scaler.fit_transform(X_train[numeric_cols])\n",
    "X_test[numeric_cols] = scaler.transform(X_test[numeric_cols])"
   ]
  },
  {
   "cell_type": "code",
   "execution_count": null,
   "id": "9215e09c",
   "metadata": {},
   "outputs": [
    {
     "data": {
      "text/plain": [
       "['scaler.pkl']"
      ]
     },
     "execution_count": 103,
     "metadata": {},
     "output_type": "execute_result"
    }
   ],
   "source": [
    "#guadado del scalado (normalizado)\n",
    "joblib.dump(scaler,'scaler.pkl')\n",
    "\n"
   ]
  },
  {
   "cell_type": "markdown",
   "id": "da354da4",
   "metadata": {},
   "source": [
    "Entrenar el Modelo"
   ]
  },
  {
   "cell_type": "code",
   "execution_count": 55,
   "id": "1aa23eb6",
   "metadata": {},
   "outputs": [
    {
     "name": "stdout",
     "output_type": "stream",
     "text": [
      "7\n"
     ]
    },
    {
     "data": {
      "text/html": [
       "<pre style=\"white-space:pre;overflow-x:auto;line-height:normal;font-family:Menlo,'DejaVu Sans Mono',consolas,'Courier New',monospace\"><span style=\"font-weight: bold\">Model: \"sequential_7\"</span>\n",
       "</pre>\n"
      ],
      "text/plain": [
       "\u001b[1mModel: \"sequential_7\"\u001b[0m\n"
      ]
     },
     "metadata": {},
     "output_type": "display_data"
    },
    {
     "data": {
      "text/html": [
       "<pre style=\"white-space:pre;overflow-x:auto;line-height:normal;font-family:Menlo,'DejaVu Sans Mono',consolas,'Courier New',monospace\">┏━━━━━━━━━━━━━━━━━━━━━━━━━━━━━━━━━┳━━━━━━━━━━━━━━━━━━━━━━━━┳━━━━━━━━━━━━━━━┓\n",
       "┃<span style=\"font-weight: bold\"> Layer (type)                    </span>┃<span style=\"font-weight: bold\"> Output Shape           </span>┃<span style=\"font-weight: bold\">       Param # </span>┃\n",
       "┡━━━━━━━━━━━━━━━━━━━━━━━━━━━━━━━━━╇━━━━━━━━━━━━━━━━━━━━━━━━╇━━━━━━━━━━━━━━━┩\n",
       "│ dense_21 (<span style=\"color: #0087ff; text-decoration-color: #0087ff\">Dense</span>)                │ (<span style=\"color: #00d7ff; text-decoration-color: #00d7ff\">None</span>, <span style=\"color: #00af00; text-decoration-color: #00af00\">128</span>)            │         <span style=\"color: #00af00; text-decoration-color: #00af00\">1,024</span> │\n",
       "├─────────────────────────────────┼────────────────────────┼───────────────┤\n",
       "│ batch_normalization             │ (<span style=\"color: #00d7ff; text-decoration-color: #00d7ff\">None</span>, <span style=\"color: #00af00; text-decoration-color: #00af00\">128</span>)            │           <span style=\"color: #00af00; text-decoration-color: #00af00\">512</span> │\n",
       "│ (<span style=\"color: #0087ff; text-decoration-color: #0087ff\">BatchNormalization</span>)            │                        │               │\n",
       "├─────────────────────────────────┼────────────────────────┼───────────────┤\n",
       "│ dropout_14 (<span style=\"color: #0087ff; text-decoration-color: #0087ff\">Dropout</span>)            │ (<span style=\"color: #00d7ff; text-decoration-color: #00d7ff\">None</span>, <span style=\"color: #00af00; text-decoration-color: #00af00\">128</span>)            │             <span style=\"color: #00af00; text-decoration-color: #00af00\">0</span> │\n",
       "├─────────────────────────────────┼────────────────────────┼───────────────┤\n",
       "│ dense_22 (<span style=\"color: #0087ff; text-decoration-color: #0087ff\">Dense</span>)                │ (<span style=\"color: #00d7ff; text-decoration-color: #00d7ff\">None</span>, <span style=\"color: #00af00; text-decoration-color: #00af00\">64</span>)             │         <span style=\"color: #00af00; text-decoration-color: #00af00\">8,256</span> │\n",
       "├─────────────────────────────────┼────────────────────────┼───────────────┤\n",
       "│ dropout_15 (<span style=\"color: #0087ff; text-decoration-color: #0087ff\">Dropout</span>)            │ (<span style=\"color: #00d7ff; text-decoration-color: #00d7ff\">None</span>, <span style=\"color: #00af00; text-decoration-color: #00af00\">64</span>)             │             <span style=\"color: #00af00; text-decoration-color: #00af00\">0</span> │\n",
       "├─────────────────────────────────┼────────────────────────┼───────────────┤\n",
       "│ dense_23 (<span style=\"color: #0087ff; text-decoration-color: #0087ff\">Dense</span>)                │ (<span style=\"color: #00d7ff; text-decoration-color: #00d7ff\">None</span>, <span style=\"color: #00af00; text-decoration-color: #00af00\">1</span>)              │            <span style=\"color: #00af00; text-decoration-color: #00af00\">65</span> │\n",
       "└─────────────────────────────────┴────────────────────────┴───────────────┘\n",
       "</pre>\n"
      ],
      "text/plain": [
       "┏━━━━━━━━━━━━━━━━━━━━━━━━━━━━━━━━━┳━━━━━━━━━━━━━━━━━━━━━━━━┳━━━━━━━━━━━━━━━┓\n",
       "┃\u001b[1m \u001b[0m\u001b[1mLayer (type)                   \u001b[0m\u001b[1m \u001b[0m┃\u001b[1m \u001b[0m\u001b[1mOutput Shape          \u001b[0m\u001b[1m \u001b[0m┃\u001b[1m \u001b[0m\u001b[1m      Param #\u001b[0m\u001b[1m \u001b[0m┃\n",
       "┡━━━━━━━━━━━━━━━━━━━━━━━━━━━━━━━━━╇━━━━━━━━━━━━━━━━━━━━━━━━╇━━━━━━━━━━━━━━━┩\n",
       "│ dense_21 (\u001b[38;5;33mDense\u001b[0m)                │ (\u001b[38;5;45mNone\u001b[0m, \u001b[38;5;34m128\u001b[0m)            │         \u001b[38;5;34m1,024\u001b[0m │\n",
       "├─────────────────────────────────┼────────────────────────┼───────────────┤\n",
       "│ batch_normalization             │ (\u001b[38;5;45mNone\u001b[0m, \u001b[38;5;34m128\u001b[0m)            │           \u001b[38;5;34m512\u001b[0m │\n",
       "│ (\u001b[38;5;33mBatchNormalization\u001b[0m)            │                        │               │\n",
       "├─────────────────────────────────┼────────────────────────┼───────────────┤\n",
       "│ dropout_14 (\u001b[38;5;33mDropout\u001b[0m)            │ (\u001b[38;5;45mNone\u001b[0m, \u001b[38;5;34m128\u001b[0m)            │             \u001b[38;5;34m0\u001b[0m │\n",
       "├─────────────────────────────────┼────────────────────────┼───────────────┤\n",
       "│ dense_22 (\u001b[38;5;33mDense\u001b[0m)                │ (\u001b[38;5;45mNone\u001b[0m, \u001b[38;5;34m64\u001b[0m)             │         \u001b[38;5;34m8,256\u001b[0m │\n",
       "├─────────────────────────────────┼────────────────────────┼───────────────┤\n",
       "│ dropout_15 (\u001b[38;5;33mDropout\u001b[0m)            │ (\u001b[38;5;45mNone\u001b[0m, \u001b[38;5;34m64\u001b[0m)             │             \u001b[38;5;34m0\u001b[0m │\n",
       "├─────────────────────────────────┼────────────────────────┼───────────────┤\n",
       "│ dense_23 (\u001b[38;5;33mDense\u001b[0m)                │ (\u001b[38;5;45mNone\u001b[0m, \u001b[38;5;34m1\u001b[0m)              │            \u001b[38;5;34m65\u001b[0m │\n",
       "└─────────────────────────────────┴────────────────────────┴───────────────┘\n"
      ]
     },
     "metadata": {},
     "output_type": "display_data"
    },
    {
     "data": {
      "text/html": [
       "<pre style=\"white-space:pre;overflow-x:auto;line-height:normal;font-family:Menlo,'DejaVu Sans Mono',consolas,'Courier New',monospace\"><span style=\"font-weight: bold\"> Total params: </span><span style=\"color: #00af00; text-decoration-color: #00af00\">9,857</span> (38.50 KB)\n",
       "</pre>\n"
      ],
      "text/plain": [
       "\u001b[1m Total params: \u001b[0m\u001b[38;5;34m9,857\u001b[0m (38.50 KB)\n"
      ]
     },
     "metadata": {},
     "output_type": "display_data"
    },
    {
     "data": {
      "text/html": [
       "<pre style=\"white-space:pre;overflow-x:auto;line-height:normal;font-family:Menlo,'DejaVu Sans Mono',consolas,'Courier New',monospace\"><span style=\"font-weight: bold\"> Trainable params: </span><span style=\"color: #00af00; text-decoration-color: #00af00\">9,601</span> (37.50 KB)\n",
       "</pre>\n"
      ],
      "text/plain": [
       "\u001b[1m Trainable params: \u001b[0m\u001b[38;5;34m9,601\u001b[0m (37.50 KB)\n"
      ]
     },
     "metadata": {},
     "output_type": "display_data"
    },
    {
     "data": {
      "text/html": [
       "<pre style=\"white-space:pre;overflow-x:auto;line-height:normal;font-family:Menlo,'DejaVu Sans Mono',consolas,'Courier New',monospace\"><span style=\"font-weight: bold\"> Non-trainable params: </span><span style=\"color: #00af00; text-decoration-color: #00af00\">256</span> (1.00 KB)\n",
       "</pre>\n"
      ],
      "text/plain": [
       "\u001b[1m Non-trainable params: \u001b[0m\u001b[38;5;34m256\u001b[0m (1.00 KB)\n"
      ]
     },
     "metadata": {},
     "output_type": "display_data"
    }
   ],
   "source": [
    "#Construcción del Modelo en TensorFlow/Keras\n",
    "\n",
    "from keras.models import Sequential\n",
    "from keras.layers import Dense,Dropout,Input,BatchNormalization\n",
    "from keras.optimizers import Adam\n",
    "\n",
    "\n",
    "model = Sequential([\n",
    "    Input(shape=(X_train.shape[1],)),\n",
    "    Dense(128, activation='relu'),\n",
    "    BatchNormalization(),\n",
    "    Dropout(0.3),\n",
    "    Dense(64, activation='relu'),\n",
    "    Dropout(0.1),\n",
    "    Dense(1, activation='sigmoid')  # clasificación binaria\n",
    "])\n",
    "\n",
    "print(X_train.shape[1])\n",
    "model.compile(optimizer=Adam(learning_rate=0.001),\n",
    "              loss='binary_crossentropy',\n",
    "              metrics=['accuracy', 'Precision', 'Recall']\n",
    "              )\n",
    "\n",
    "model.summary()"
   ]
  },
  {
   "cell_type": "code",
   "execution_count": null,
   "id": "9a51c2e3",
   "metadata": {},
   "outputs": [],
   "source": [
    "\n",
    "# Callbacks\n",
    "early_stopping = EarlyStopping(monitor='val_loss', patience=5, restore_best_weights=True)"
   ]
  },
  {
   "cell_type": "code",
   "execution_count": null,
   "id": "377dde07",
   "metadata": {},
   "outputs": [
    {
     "name": "stdout",
     "output_type": "stream",
     "text": [
      "Epoch 1/10\n",
      "\u001b[1m4632/4632\u001b[0m \u001b[32m━━━━━━━━━━━━━━━━━━━━\u001b[0m\u001b[37m\u001b[0m \u001b[1m32s\u001b[0m 6ms/step - Precision: 0.3264 - Recall: 0.9878 - accuracy: 0.5007 - loss: 1.3753 - val_Precision: 0.4571 - val_Recall: 1.0000 - val_accuracy: 0.7117 - val_loss: 0.6140\n",
      "Epoch 2/10\n",
      "\u001b[1m4632/4632\u001b[0m \u001b[32m━━━━━━━━━━━━━━━━━━━━\u001b[0m\u001b[37m\u001b[0m \u001b[1m26s\u001b[0m 6ms/step - Precision: 0.4687 - Recall: 0.9958 - accuracy: 0.7243 - loss: 0.8947 - val_Precision: 0.5178 - val_Recall: 1.0000 - val_accuracy: 0.7740 - val_loss: 0.4331\n",
      "Epoch 3/10\n",
      "\u001b[1m4632/4632\u001b[0m \u001b[32m━━━━━━━━━━━━━━━━━━━━\u001b[0m\u001b[37m\u001b[0m \u001b[1m26s\u001b[0m 5ms/step - Precision: 0.5689 - Recall: 0.9925 - accuracy: 0.8153 - loss: 0.6313 - val_Precision: 0.6294 - val_Recall: 1.0000 - val_accuracy: 0.8571 - val_loss: 0.3373\n",
      "Epoch 4/10\n",
      "\u001b[1m4632/4632\u001b[0m \u001b[32m━━━━━━━━━━━━━━━━━━━━\u001b[0m\u001b[37m\u001b[0m \u001b[1m26s\u001b[0m 5ms/step - Precision: 0.6264 - Recall: 0.9912 - accuracy: 0.8545 - loss: 0.5288 - val_Precision: 0.6424 - val_Recall: 1.0000 - val_accuracy: 0.8649 - val_loss: 0.3166\n",
      "Epoch 5/10\n",
      "\u001b[1m4632/4632\u001b[0m \u001b[32m━━━━━━━━━━━━━━━━━━━━\u001b[0m\u001b[37m\u001b[0m \u001b[1m28s\u001b[0m 6ms/step - Precision: 0.6538 - Recall: 0.9919 - accuracy: 0.8706 - loss: 0.4698 - val_Precision: 0.6934 - val_Recall: 1.0000 - val_accuracy: 0.8927 - val_loss: 0.2563\n",
      "Epoch 6/10\n",
      "\u001b[1m4632/4632\u001b[0m \u001b[32m━━━━━━━━━━━━━━━━━━━━\u001b[0m\u001b[37m\u001b[0m \u001b[1m24s\u001b[0m 5ms/step - Precision: 0.6834 - Recall: 0.9904 - accuracy: 0.8862 - loss: 0.4365 - val_Precision: 0.7677 - val_Recall: 0.9113 - val_accuracy: 0.9116 - val_loss: 0.2159\n",
      "Epoch 7/10\n",
      "\u001b[1m4632/4632\u001b[0m \u001b[32m━━━━━━━━━━━━━━━━━━━━\u001b[0m\u001b[37m\u001b[0m \u001b[1m29s\u001b[0m 6ms/step - Precision: 0.7041 - Recall: 0.9905 - accuracy: 0.8969 - loss: 0.4160 - val_Precision: 0.7866 - val_Recall: 0.9078 - val_accuracy: 0.9178 - val_loss: 0.2057\n",
      "Epoch 8/10\n",
      "\u001b[1m4632/4632\u001b[0m \u001b[32m━━━━━━━━━━━━━━━━━━━━\u001b[0m\u001b[37m\u001b[0m \u001b[1m26s\u001b[0m 6ms/step - Precision: 0.7193 - Recall: 0.9908 - accuracy: 0.9039 - loss: 0.3993 - val_Precision: 0.7777 - val_Recall: 0.9078 - val_accuracy: 0.9146 - val_loss: 0.1921\n",
      "Epoch 9/10\n",
      "\u001b[1m4632/4632\u001b[0m \u001b[32m━━━━━━━━━━━━━━━━━━━━\u001b[0m\u001b[37m\u001b[0m \u001b[1m27s\u001b[0m 6ms/step - Precision: 0.7218 - Recall: 0.9908 - accuracy: 0.9052 - loss: 0.3914 - val_Precision: 0.8381 - val_Recall: 0.9362 - val_accuracy: 0.9406 - val_loss: 0.1688\n",
      "Epoch 10/10\n",
      "\u001b[1m4632/4632\u001b[0m \u001b[32m━━━━━━━━━━━━━━━━━━━━\u001b[0m\u001b[37m\u001b[0m \u001b[1m26s\u001b[0m 6ms/step - Precision: 0.7488 - Recall: 0.9906 - accuracy: 0.9172 - loss: 0.3642 - val_Precision: 0.8277 - val_Recall: 0.9108 - val_accuracy: 0.9324 - val_loss: 0.1749\n"
     ]
    }
   ],
   "source": [
    "#Entrenamiento\n",
    "history=model.fit(X_train,y_train,epochs=10,batch_size=1024,validation_split=0.2,callbacks=[early_stopping],class_weight={0:1,1:10})"
   ]
  },
  {
   "cell_type": "markdown",
   "id": "5dad747f",
   "metadata": {},
   "source": [
    "Evaluación del Modelo"
   ]
  },
  {
   "cell_type": "code",
   "execution_count": 58,
   "id": "592e8f03",
   "metadata": {},
   "outputs": [
    {
     "name": "stdout",
     "output_type": "stream",
     "text": [
      "\u001b[1m46313/46313\u001b[0m \u001b[32m━━━━━━━━━━━━━━━━━━━━\u001b[0m\u001b[37m\u001b[0m \u001b[1m125s\u001b[0m 3ms/step - Precision: 0.8407 - Recall: 0.9363 - accuracy: 0.9413 - loss: 0.1670\n",
      "Test Loss: 0.1667, Test Accuracy: 0.9415\n",
      "\u001b[1m46313/46313\u001b[0m \u001b[32m━━━━━━━━━━━━━━━━━━━━\u001b[0m\u001b[37m\u001b[0m \u001b[1m30s\u001b[0m 645us/step\n",
      "[[1057253   64054]\n",
      " [  22693  337987]]\n"
     ]
    }
   ],
   "source": [
    "#Evaluacion\n",
    "results = model.evaluate(X_test, y_test)\n",
    "print(f\"Test Loss: {results[0]:.4f}, Test Accuracy: {results[1]:.4f}\")\n",
    "\n",
    "# Predecir destinos populares\n",
    "y_pred = (model.predict(X_test) > 0.5).astype(int)  # Umbral de 0.5\n",
    "\n",
    "# Matriz de confusión\n",
    "from sklearn.metrics import confusion_matrix\n",
    "print(confusion_matrix(y_test, y_pred))"
   ]
  },
  {
   "cell_type": "markdown",
   "id": "838fab90",
   "metadata": {},
   "source": [
    "Guardar el Modelo y Componentes"
   ]
  },
  {
   "cell_type": "code",
   "execution_count": null,
   "id": "e2fac998",
   "metadata": {},
   "outputs": [],
   "source": [
    "model.save('modelo_destinos_populares.keras')"
   ]
  },
  {
   "cell_type": "markdown",
   "id": "d36d662d",
   "metadata": {},
   "source": [
    "Pruebas del modelo guardado"
   ]
  },
  {
   "cell_type": "code",
   "execution_count": null,
   "id": "65c4681e",
   "metadata": {},
   "outputs": [
    {
     "name": "stdout",
     "output_type": "stream",
     "text": [
      "[[  3   1   0   1   1 142 226]]\n",
      "      MONTH  DAY_WEEK  HOLIDAY  VACATION  IMPORTANT_EVENT  ORIGIN_ENCONDED  \\\n",
      "0  1.211967 -1.000254        0         1                1         -0.70129   \n",
      "\n",
      "   DEST_ENCONDED  \n",
      "0       0.012189  \n",
      "\u001b[1m1/1\u001b[0m \u001b[32m━━━━━━━━━━━━━━━━━━━━\u001b[0m\u001b[37m\u001b[0m \u001b[1m0s\u001b[0m 75ms/step\n",
      "Probabilidad de destino popular: 0.9961\n",
      "Predicción binaria: 1\n"
     ]
    }
   ],
   "source": [
    "\n",
    "model_load = load_model('model_dest_popular.keras',compile=False)\n",
    "# Generar un input aleatorio respetando los rangos de las variables\n",
    "random_input = np.array([[\n",
    "    np.random.choice([1, 2, 3]),  # MONTH (puede ser 1, 2 o 3)\n",
    "    np.random.randint(0, 7),      # DAY_WEEK (0-6)\n",
    "    np.random.randint(0, 2),      # HOLIDAY (0 o 1)\n",
    "    np.random.randint(0, 2),      # VACATION (0 o 1)\n",
    "    np.random.randint(0, 2),      # IMPORTANT_EVENT (0 o 1)\n",
    "    int(np.random.uniform(X['ORIGIN_ENCONDED'].min(), X['ORIGIN_ENCONDED'].max())),  # ORIGIN_ENCONDED\n",
    "    int(np.random.uniform(X['DEST_ENCONDED'].min(), X['DEST_ENCONDED'].max()))       # DEST_ENCONDED\n",
    "]])\n",
    "print(random_input)\n",
    "# Normalizar las columnas numéricas igual que en el entrenamiento\n",
    "random_input_df = pd.DataFrame(random_input, columns=features)\n",
    "\n",
    "random_input_df[numeric_cols] = scaler.transform(random_input_df[numeric_cols])\n",
    "print(random_input_df)\n",
    "# Predicción\n",
    "pred = model_load.predict(random_input_df)\n",
    "\n",
    "\n",
    "print(f\"Probabilidad de destino popular: {pred[0][0]:.4f}\")\n",
    "print(\"Predicción binaria:\", int(pred[0][0] > 0.5))"
   ]
  },
  {
   "cell_type": "code",
   "execution_count": null,
   "id": "b41ab86f",
   "metadata": {},
   "outputs": [
    {
     "name": "stdout",
     "output_type": "stream",
     "text": [
      "0\n"
     ]
    }
   ],
   "source": []
  }
 ],
 "metadata": {
  "kernelspec": {
   "display_name": "venv",
   "language": "python",
   "name": "python3"
  },
  "language_info": {
   "codemirror_mode": {
    "name": "ipython",
    "version": 3
   },
   "file_extension": ".py",
   "mimetype": "text/x-python",
   "name": "python",
   "nbconvert_exporter": "python",
   "pygments_lexer": "ipython3",
   "version": "3.12.4"
  }
 },
 "nbformat": 4,
 "nbformat_minor": 5
}
